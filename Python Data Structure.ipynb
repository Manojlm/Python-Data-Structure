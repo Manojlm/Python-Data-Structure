{
 "cells": [
  {
   "cell_type": "markdown",
   "id": "eade35d9",
   "metadata": {},
   "source": [
    "## 4.Datastructures in Python\n",
    " 1. List\n",
    " 2. set\n",
    " 3. Tuple\n",
    " 4. Dist"
   ]
  },
  {
   "cell_type": "markdown",
   "id": "c1d555c0",
   "metadata": {},
   "source": [
    "## 1. List\n",
    "\n",
    "- 1 Dimensional\n",
    "- Heterogenous\n",
    "- Mutable/Changeable\n",
    "- Allows duplicate elements\n",
    "- Indexable and Sliceable"
   ]
  },
  {
   "cell_type": "code",
   "execution_count": 1,
   "id": "5c85f401",
   "metadata": {},
   "outputs": [],
   "source": [
    "cart_1 = []"
   ]
  },
  {
   "cell_type": "code",
   "execution_count": 5,
   "id": "7575e744",
   "metadata": {},
   "outputs": [
    {
     "data": {
      "text/plain": [
       "list"
      ]
     },
     "execution_count": 5,
     "metadata": {},
     "output_type": "execute_result"
    }
   ],
   "source": [
    "type(cart_1)"
   ]
  },
  {
   "cell_type": "code",
   "execution_count": 1,
   "id": "65d8793e",
   "metadata": {},
   "outputs": [],
   "source": [
    "students = ['Manoj', 'Meghan', 'Avinash', 'Vineeth']"
   ]
  },
  {
   "cell_type": "code",
   "execution_count": 2,
   "id": "97178766",
   "metadata": {},
   "outputs": [
    {
     "data": {
      "text/plain": [
       "list"
      ]
     },
     "execution_count": 2,
     "metadata": {},
     "output_type": "execute_result"
    }
   ],
   "source": [
    "type(students)"
   ]
  },
  {
   "cell_type": "code",
   "execution_count": 3,
   "id": "3d8b1a08",
   "metadata": {},
   "outputs": [],
   "source": [
    "students = ['Manoj','Shashi','Meghan','chandru','Meghan','Avinash','Avinash']"
   ]
  },
  {
   "cell_type": "code",
   "execution_count": 4,
   "id": "402eb462",
   "metadata": {},
   "outputs": [
    {
     "data": {
      "text/plain": [
       "['Manoj', 'Shashi', 'Meghan', 'chandru', 'Meghan', 'Avinash', 'Avinash']"
      ]
     },
     "execution_count": 4,
     "metadata": {},
     "output_type": "execute_result"
    }
   ],
   "source": [
    "students"
   ]
  },
  {
   "cell_type": "markdown",
   "id": "046d6748",
   "metadata": {},
   "source": [
    "Inference :\n",
    "\n",
    "- see list allows duplicate values."
   ]
  },
  {
   "cell_type": "code",
   "execution_count": 5,
   "id": "e690ee07",
   "metadata": {},
   "outputs": [],
   "source": [
    "students[2] = 'Likith'"
   ]
  },
  {
   "cell_type": "markdown",
   "id": "ec78eb63",
   "metadata": {},
   "source": [
    "Inference:\n",
    "- List is Indexable."
   ]
  },
  {
   "cell_type": "code",
   "execution_count": 6,
   "id": "abf76ff5",
   "metadata": {},
   "outputs": [
    {
     "data": {
      "text/plain": [
       "['Manoj', 'Shashi', 'Likith', 'chandru', 'Meghan', 'Avinash', 'Avinash']"
      ]
     },
     "execution_count": 6,
     "metadata": {},
     "output_type": "execute_result"
    }
   ],
   "source": [
    "students"
   ]
  },
  {
   "cell_type": "code",
   "execution_count": 7,
   "id": "8970be33",
   "metadata": {},
   "outputs": [
    {
     "data": {
      "text/plain": [
       "['chandru', 'Meghan']"
      ]
     },
     "execution_count": 7,
     "metadata": {},
     "output_type": "execute_result"
    }
   ],
   "source": [
    "students[3:5]"
   ]
  },
  {
   "cell_type": "markdown",
   "id": "87a40216",
   "metadata": {},
   "source": [
    "Inference:\n",
    "- list is sliceable"
   ]
  },
  {
   "cell_type": "code",
   "execution_count": 8,
   "id": "c459eda1",
   "metadata": {},
   "outputs": [],
   "source": [
    "students.append('Appu')"
   ]
  },
  {
   "cell_type": "code",
   "execution_count": 9,
   "id": "a5747c08",
   "metadata": {},
   "outputs": [
    {
     "data": {
      "text/plain": [
       "['Manoj',\n",
       " 'Shashi',\n",
       " 'Likith',\n",
       " 'chandru',\n",
       " 'Meghan',\n",
       " 'Avinash',\n",
       " 'Avinash',\n",
       " 'Appu']"
      ]
     },
     "execution_count": 9,
     "metadata": {},
     "output_type": "execute_result"
    }
   ],
   "source": [
    "students"
   ]
  },
  {
   "cell_type": "markdown",
   "id": "de30e985",
   "metadata": {},
   "source": [
    "## 2. Set\n",
    "\n",
    "- 1 Dimensional\n",
    "- Heterogenous\n",
    "- It is mutable/Changeable\n",
    "- Not allows duplicate values\n",
    "- And not indexable and sliceable"
   ]
  },
  {
   "cell_type": "code",
   "execution_count": 10,
   "id": "de7b99e2",
   "metadata": {},
   "outputs": [],
   "source": [
    "student2 = {'Arthi','seetha','rama','hanumantha','lakshmana'}"
   ]
  },
  {
   "cell_type": "code",
   "execution_count": 11,
   "id": "171914c2",
   "metadata": {},
   "outputs": [
    {
     "data": {
      "text/plain": [
       "{'Arthi', 'hanumantha', 'lakshmana', 'rama', 'seetha'}"
      ]
     },
     "execution_count": 11,
     "metadata": {},
     "output_type": "execute_result"
    }
   ],
   "source": [
    "student2"
   ]
  },
  {
   "cell_type": "code",
   "execution_count": 12,
   "id": "dd19557e",
   "metadata": {},
   "outputs": [
    {
     "ename": "TypeError",
     "evalue": "'set' object is not subscriptable",
     "output_type": "error",
     "traceback": [
      "\u001b[1;31m---------------------------------------------------------------------------\u001b[0m",
      "\u001b[1;31mTypeError\u001b[0m                                 Traceback (most recent call last)",
      "Cell \u001b[1;32mIn[12], line 1\u001b[0m\n\u001b[1;32m----> 1\u001b[0m student2[\u001b[38;5;241m3\u001b[39m]\n",
      "\u001b[1;31mTypeError\u001b[0m: 'set' object is not subscriptable"
     ]
    }
   ],
   "source": [
    "student2[3]"
   ]
  },
  {
   "cell_type": "code",
   "execution_count": 13,
   "id": "da815960",
   "metadata": {},
   "outputs": [
    {
     "ename": "TypeError",
     "evalue": "'set' object is not subscriptable",
     "output_type": "error",
     "traceback": [
      "\u001b[1;31m---------------------------------------------------------------------------\u001b[0m",
      "\u001b[1;31mTypeError\u001b[0m                                 Traceback (most recent call last)",
      "Cell \u001b[1;32mIn[13], line 1\u001b[0m\n\u001b[1;32m----> 1\u001b[0m student2[\u001b[38;5;241m2\u001b[39m:\u001b[38;5;241m5\u001b[39m]\n",
      "\u001b[1;31mTypeError\u001b[0m: 'set' object is not subscriptable"
     ]
    }
   ],
   "source": [
    "student2[2:5]"
   ]
  },
  {
   "cell_type": "code",
   "execution_count": 14,
   "id": "1ddd5677",
   "metadata": {},
   "outputs": [
    {
     "data": {
      "text/plain": [
       "set"
      ]
     },
     "execution_count": 14,
     "metadata": {},
     "output_type": "execute_result"
    }
   ],
   "source": [
    "type(student2)"
   ]
  },
  {
   "cell_type": "code",
   "execution_count": 15,
   "id": "e80002b8",
   "metadata": {},
   "outputs": [],
   "source": [
    "student2.add('Vishnuparamathma')"
   ]
  },
  {
   "cell_type": "code",
   "execution_count": 16,
   "id": "53110bb9",
   "metadata": {},
   "outputs": [
    {
     "data": {
      "text/plain": [
       "{'Arthi', 'Vishnuparamathma', 'hanumantha', 'lakshmana', 'rama', 'seetha'}"
      ]
     },
     "execution_count": 16,
     "metadata": {},
     "output_type": "execute_result"
    }
   ],
   "source": [
    "student2"
   ]
  },
  {
   "cell_type": "code",
   "execution_count": 17,
   "id": "1fca8ec5",
   "metadata": {},
   "outputs": [],
   "source": [
    "student2.clear()"
   ]
  },
  {
   "cell_type": "code",
   "execution_count": 18,
   "id": "1a3b7d2b",
   "metadata": {},
   "outputs": [
    {
     "data": {
      "text/plain": [
       "set()"
      ]
     },
     "execution_count": 18,
     "metadata": {},
     "output_type": "execute_result"
    }
   ],
   "source": [
    "student2"
   ]
  },
  {
   "cell_type": "markdown",
   "id": "36aaa5bc",
   "metadata": {},
   "source": [
    "## 3. Tuple\n",
    "- 1 Dimensional\n",
    "- Heterogenous\n",
    "- Allows duplicate elements\n",
    "- Not mutable/Changeable\n",
    "- Indexable and Sliceable"
   ]
  },
  {
   "cell_type": "code",
   "execution_count": 19,
   "id": "4ac236f7",
   "metadata": {},
   "outputs": [],
   "source": [
    "students3 = ()"
   ]
  },
  {
   "cell_type": "code",
   "execution_count": 21,
   "id": "f1b7753a",
   "metadata": {},
   "outputs": [
    {
     "data": {
      "text/plain": [
       "tuple"
      ]
     },
     "execution_count": 21,
     "metadata": {},
     "output_type": "execute_result"
    }
   ],
   "source": [
    "type(students3)"
   ]
  },
  {
   "cell_type": "code",
   "execution_count": 24,
   "id": "98eb0efa",
   "metadata": {},
   "outputs": [
    {
     "data": {
      "text/plain": [
       "('Gouvrav', 'Nikil', 'Sunil', 'Shreshta', 'jadhav')"
      ]
     },
     "execution_count": 24,
     "metadata": {},
     "output_type": "execute_result"
    }
   ],
   "source": [
    "students3 = ('Gouvrav','Nikil','Sunil','Shreshta','jadhav')\n",
    "students3"
   ]
  },
  {
   "cell_type": "code",
   "execution_count": 23,
   "id": "c9f17ec5",
   "metadata": {},
   "outputs": [
    {
     "data": {
      "text/plain": [
       "('Gouvrav', 'Nikil', 'Sunil', 'Shreshta', 'jadhav')"
      ]
     },
     "execution_count": 23,
     "metadata": {},
     "output_type": "execute_result"
    }
   ],
   "source": [
    "students3"
   ]
  },
  {
   "cell_type": "code",
   "execution_count": 28,
   "id": "72a33950",
   "metadata": {},
   "outputs": [],
   "source": [
    "students4 = ('shivu','likit','shashi','manthu','padya','likit')"
   ]
  },
  {
   "cell_type": "code",
   "execution_count": 29,
   "id": "a098239c",
   "metadata": {},
   "outputs": [
    {
     "data": {
      "text/plain": [
       "('shivu', 'likit', 'shashi', 'manthu', 'padya', 'likit')"
      ]
     },
     "execution_count": 29,
     "metadata": {},
     "output_type": "execute_result"
    }
   ],
   "source": [
    "students4"
   ]
  },
  {
   "cell_type": "code",
   "execution_count": 30,
   "id": "d250835b",
   "metadata": {},
   "outputs": [
    {
     "data": {
      "text/plain": [
       "'shashi'"
      ]
     },
     "execution_count": 30,
     "metadata": {},
     "output_type": "execute_result"
    }
   ],
   "source": [
    "students4[2]"
   ]
  },
  {
   "cell_type": "code",
   "execution_count": 31,
   "id": "2d6751fb",
   "metadata": {},
   "outputs": [
    {
     "data": {
      "text/plain": [
       "'likit'"
      ]
     },
     "execution_count": 31,
     "metadata": {},
     "output_type": "execute_result"
    }
   ],
   "source": [
    "students4[5]"
   ]
  },
  {
   "cell_type": "code",
   "execution_count": 32,
   "id": "93e9f288",
   "metadata": {},
   "outputs": [
    {
     "data": {
      "text/plain": [
       "('shashi', 'manthu', 'padya')"
      ]
     },
     "execution_count": 32,
     "metadata": {},
     "output_type": "execute_result"
    }
   ],
   "source": [
    "students4[2:5]"
   ]
  },
  {
   "cell_type": "code",
   "execution_count": 33,
   "id": "9de3f197",
   "metadata": {},
   "outputs": [
    {
     "ename": "TypeError",
     "evalue": "'tuple' object does not support item assignment",
     "output_type": "error",
     "traceback": [
      "\u001b[1;31m---------------------------------------------------------------------------\u001b[0m",
      "\u001b[1;31mTypeError\u001b[0m                                 Traceback (most recent call last)",
      "Cell \u001b[1;32mIn[33], line 1\u001b[0m\n\u001b[1;32m----> 1\u001b[0m students4[\u001b[38;5;241m2\u001b[39m] \u001b[38;5;241m=\u001b[39m \u001b[38;5;124m'\u001b[39m\u001b[38;5;124msundar\u001b[39m\u001b[38;5;124m'\u001b[39m\n",
      "\u001b[1;31mTypeError\u001b[0m: 'tuple' object does not support item assignment"
     ]
    }
   ],
   "source": [
    "students4[2] = 'sundar'"
   ]
  },
  {
   "cell_type": "markdown",
   "id": "37975596",
   "metadata": {},
   "source": [
    "## 4. Dictionary\n",
    "We call it as Key:Value pair\n",
    "\n",
    "- 2D Dimension\n",
    "- Heterogenous\n",
    "- Not indexable and not sliceable\n",
    "- Allows duplicate values"
   ]
  },
  {
   "cell_type": "code",
   "execution_count": 36,
   "id": "910b3791",
   "metadata": {},
   "outputs": [],
   "source": [
    "student5 = {}"
   ]
  },
  {
   "cell_type": "code",
   "execution_count": 37,
   "id": "d266d293",
   "metadata": {},
   "outputs": [
    {
     "data": {
      "text/plain": [
       "dict"
      ]
     },
     "execution_count": 37,
     "metadata": {},
     "output_type": "execute_result"
    }
   ],
   "source": [
    "type(student5)"
   ]
  },
  {
   "cell_type": "code",
   "execution_count": 38,
   "id": "b1c52cbe",
   "metadata": {},
   "outputs": [],
   "source": [
    "student5 = {'Abhi','Manoj','jeevu', 'Manoj'}"
   ]
  },
  {
   "cell_type": "code",
   "execution_count": 39,
   "id": "a86bc2c1",
   "metadata": {},
   "outputs": [
    {
     "ename": "TypeError",
     "evalue": "'set' object is not subscriptable",
     "output_type": "error",
     "traceback": [
      "\u001b[1;31m---------------------------------------------------------------------------\u001b[0m",
      "\u001b[1;31mTypeError\u001b[0m                                 Traceback (most recent call last)",
      "Cell \u001b[1;32mIn[39], line 1\u001b[0m\n\u001b[1;32m----> 1\u001b[0m student5[\u001b[38;5;241m1\u001b[39m]\n",
      "\u001b[1;31mTypeError\u001b[0m: 'set' object is not subscriptable"
     ]
    }
   ],
   "source": [
    "student5[1]"
   ]
  },
  {
   "cell_type": "code",
   "execution_count": 40,
   "id": "1b4cfdc2",
   "metadata": {},
   "outputs": [
    {
     "ename": "TypeError",
     "evalue": "'set' object is not subscriptable",
     "output_type": "error",
     "traceback": [
      "\u001b[1;31m---------------------------------------------------------------------------\u001b[0m",
      "\u001b[1;31mTypeError\u001b[0m                                 Traceback (most recent call last)",
      "Cell \u001b[1;32mIn[40], line 1\u001b[0m\n\u001b[1;32m----> 1\u001b[0m student5[:\u001b[38;5;241m4\u001b[39m]\n",
      "\u001b[1;31mTypeError\u001b[0m: 'set' object is not subscriptable"
     ]
    }
   ],
   "source": [
    "student5[:4]"
   ]
  },
  {
   "cell_type": "code",
   "execution_count": 41,
   "id": "3afd8837",
   "metadata": {},
   "outputs": [],
   "source": [
    "student5.add('lavanya')"
   ]
  },
  {
   "cell_type": "code",
   "execution_count": 42,
   "id": "15cc588a",
   "metadata": {},
   "outputs": [
    {
     "data": {
      "text/plain": [
       "{'Abhi', 'Manoj', 'jeevu', 'lavanya'}"
      ]
     },
     "execution_count": 42,
     "metadata": {},
     "output_type": "execute_result"
    }
   ],
   "source": [
    "student5"
   ]
  },
  {
   "cell_type": "code",
   "execution_count": 43,
   "id": "c3874d37",
   "metadata": {},
   "outputs": [
    {
     "data": {
      "text/plain": [
       "{'chicken': 2, 'ghee': 3, 'coffe': 1}"
      ]
     },
     "execution_count": 43,
     "metadata": {},
     "output_type": "execute_result"
    }
   ],
   "source": [
    "items = {'chicken':2,\n",
    "        'ghee':3,\n",
    "        'coffe':1}\n",
    "items"
   ]
  },
  {
   "cell_type": "code",
   "execution_count": 49,
   "id": "ad506255",
   "metadata": {},
   "outputs": [
    {
     "data": {
      "text/plain": [
       "{'fname': 'Lavanya', 'lname': 'Karja', 'age': 27, 'weight': 27}"
      ]
     },
     "execution_count": 49,
     "metadata": {},
     "output_type": "execute_result"
    }
   ],
   "source": [
    "learner_details = {'fname' :'Lavanya',\n",
    "                   'lname' :'Karja',\n",
    "                   'age'   : 27,\n",
    "                   'weight' : 27\n",
    "                  }\n",
    "learner_details"
   ]
  },
  {
   "cell_type": "code",
   "execution_count": 50,
   "id": "6f4d6372",
   "metadata": {},
   "outputs": [
    {
     "data": {
      "text/plain": [
       "{'fname': ['Lavanya', 'Gokul', 'Mariya'],\n",
       " 'lname': ['Karja', 'Raj', 'Sherly'],\n",
       " 'age': [27, 26, 24]}"
      ]
     },
     "execution_count": 50,
     "metadata": {},
     "output_type": "execute_result"
    }
   ],
   "source": [
    "learner_details = {'fname' :['Lavanya','Gokul','Mariya'],\n",
    "                    'lname':['Karja','Raj','Sherly'],\n",
    "                    'age'  :[27,26,24]\n",
    "                  }\n",
    "learner_details"
   ]
  },
  {
   "cell_type": "code",
   "execution_count": 45,
   "id": "51c4a225",
   "metadata": {},
   "outputs": [],
   "source": [
    "import pandas as pd"
   ]
  },
  {
   "cell_type": "code",
   "execution_count": 51,
   "id": "21a71071",
   "metadata": {},
   "outputs": [
    {
     "data": {
      "text/html": [
       "<div>\n",
       "<style scoped>\n",
       "    .dataframe tbody tr th:only-of-type {\n",
       "        vertical-align: middle;\n",
       "    }\n",
       "\n",
       "    .dataframe tbody tr th {\n",
       "        vertical-align: top;\n",
       "    }\n",
       "\n",
       "    .dataframe thead th {\n",
       "        text-align: right;\n",
       "    }\n",
       "</style>\n",
       "<table border=\"1\" class=\"dataframe\">\n",
       "  <thead>\n",
       "    <tr style=\"text-align: right;\">\n",
       "      <th></th>\n",
       "      <th>fname</th>\n",
       "      <th>lname</th>\n",
       "      <th>age</th>\n",
       "    </tr>\n",
       "  </thead>\n",
       "  <tbody>\n",
       "    <tr>\n",
       "      <th>0</th>\n",
       "      <td>Lavanya</td>\n",
       "      <td>Karja</td>\n",
       "      <td>27</td>\n",
       "    </tr>\n",
       "    <tr>\n",
       "      <th>1</th>\n",
       "      <td>Gokul</td>\n",
       "      <td>Raj</td>\n",
       "      <td>26</td>\n",
       "    </tr>\n",
       "    <tr>\n",
       "      <th>2</th>\n",
       "      <td>Mariya</td>\n",
       "      <td>Sherly</td>\n",
       "      <td>24</td>\n",
       "    </tr>\n",
       "  </tbody>\n",
       "</table>\n",
       "</div>"
      ],
      "text/plain": [
       "     fname   lname  age\n",
       "0  Lavanya   Karja   27\n",
       "1    Gokul     Raj   26\n",
       "2   Mariya  Sherly   24"
      ]
     },
     "execution_count": 51,
     "metadata": {},
     "output_type": "execute_result"
    }
   ],
   "source": [
    "pd.DataFrame(data=learner_details)"
   ]
  },
  {
   "cell_type": "markdown",
   "id": "c99d660c",
   "metadata": {},
   "source": [
    "                        ******************THE END**********************"
   ]
  }
 ],
 "metadata": {
  "kernelspec": {
   "display_name": "Python 3 (ipykernel)",
   "language": "python",
   "name": "python3"
  },
  "language_info": {
   "codemirror_mode": {
    "name": "ipython",
    "version": 3
   },
   "file_extension": ".py",
   "mimetype": "text/x-python",
   "name": "python",
   "nbconvert_exporter": "python",
   "pygments_lexer": "ipython3",
   "version": "3.11.3"
  }
 },
 "nbformat": 4,
 "nbformat_minor": 5
}
